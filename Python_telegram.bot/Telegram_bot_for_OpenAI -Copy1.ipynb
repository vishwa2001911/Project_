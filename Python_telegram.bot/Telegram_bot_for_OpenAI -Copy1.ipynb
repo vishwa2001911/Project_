{
 "cells": [
  {
   "cell_type": "code",
   "execution_count": 28,
   "id": "e6304755",
   "metadata": {},
   "outputs": [],
   "source": [
    "import telebot \n",
    "import openai\n",
    "import os\n",
    "\n",
    "f2 = open(\"api_key.text\", \"r\")\n",
    "key2 = f2.read()\n",
    "f2.close()\n",
    "\n",
    "\n",
    "f = open(\"key.text\", \"r\")\n",
    "key = f.read()\n",
    "f.close()\n",
    "\n",
    "\n",
    "def ask_ai(q):\n",
    "    openai.api_key = key2\n",
    "\n",
    "    answer = openai.Completion.create(  \n",
    "      model=\"text-davinci-001\",\n",
    "      prompt=f\" {q} :\\n\\n\\n\\n\\n\",\n",
    "      temperature = 1,\n",
    "      max_tokens = 300,\n",
    "      top_p = 1,\n",
    "      frequency_penalty=0,\n",
    "      presence_penalty=0\n",
    "\n",
    "    )\n",
    "    return answer[\"choices\"][0][\"text\"]\n",
    "\n",
    "\n",
    "\n",
    "bot = telebot.TeleBot(key)\n",
    "\n",
    "@bot.message_handler(commands=['start'])\n",
    "def send_welcome(message):\n",
    "    bot.reply_to(message, \"\"\"\\\n",
    "Hi there, I am VishAI Bot.\n",
    "I am here to chat with you. Just say anything  and I'll answer for that !\\\n",
    "\"\"\")\n",
    "    \n",
    "@bot.message_handler(func=lambda message: True)\n",
    "def echo_message(message):\n",
    "    bot.send_message(message.chat.id, ask_ai(message.text))\n",
    "\n",
    "    \n",
    "    \n",
    "\n",
    "    \n",
    "bot.polling()\n",
    "\n",
    "\n",
    "\n",
    "\n",
    "\n",
    "\n"
   ]
  },
  {
   "cell_type": "code",
   "execution_count": null,
   "id": "d1137e76",
   "metadata": {},
   "outputs": [],
   "source": []
  }
 ],
 "metadata": {
  "kernelspec": {
   "display_name": "Python 3 (ipykernel)",
   "language": "python",
   "name": "python3"
  },
  "language_info": {
   "codemirror_mode": {
    "name": "ipython",
    "version": 3
   },
   "file_extension": ".py",
   "mimetype": "text/x-python",
   "name": "python",
   "nbconvert_exporter": "python",
   "pygments_lexer": "ipython3",
   "version": "3.9.12"
  }
 },
 "nbformat": 4,
 "nbformat_minor": 5
}
