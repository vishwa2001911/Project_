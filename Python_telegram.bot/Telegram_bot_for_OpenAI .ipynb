{
 "cells": [
  {
   "cell_type": "code",
   "execution_count": 38,
   "id": "e6304755",
   "metadata": {},
   "outputs": [],
   "source": [
    "import os\n",
    "import telebot \n",
    "\n",
    "f = open(\"key.text\", \"r\")\n",
    "key = f.read()\n",
    "f.close()\n",
    "\n",
    "bot = telebot.TeleBot(key)\n",
    "\n",
    "\n",
    "@bot.message_handler(commands=[\"Greet\"])\n",
    "\n",
    "def greet(message):\n",
    "    bot.send_message(message.chat.id, \"Hey! \")\n",
    "    \n",
    "\n",
    "    \n",
    "bot.polling()"
   ]
  },
  {
   "cell_type": "code",
   "execution_count": null,
   "id": "7295c34d",
   "metadata": {},
   "outputs": [],
   "source": []
  }
 ],
 "metadata": {
  "kernelspec": {
   "display_name": "Python 3 (ipykernel)",
   "language": "python",
   "name": "python3"
  },
  "language_info": {
   "codemirror_mode": {
    "name": "ipython",
    "version": 3
   },
   "file_extension": ".py",
   "mimetype": "text/x-python",
   "name": "python",
   "nbconvert_exporter": "python",
   "pygments_lexer": "ipython3",
   "version": "3.9.12"
  }
 },
 "nbformat": 4,
 "nbformat_minor": 5
}
