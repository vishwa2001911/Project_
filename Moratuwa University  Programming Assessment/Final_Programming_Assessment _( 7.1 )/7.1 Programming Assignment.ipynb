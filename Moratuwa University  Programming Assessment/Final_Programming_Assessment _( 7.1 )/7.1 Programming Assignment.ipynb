{
 "cells": [
  {
   "cell_type": "code",
   "execution_count": 91,
   "id": "b30699db",
   "metadata": {},
   "outputs": [
    {
     "name": "stdout",
     "output_type": "stream",
     "text": [
      "uestion author has goofed. Please report\n"
     ]
    }
   ],
   "source": [
    "from bs4 import BeautifulSoup as bf\n",
    "import requests\n",
    "import json\n",
    "\n",
    "#product_laughs =\"https://scrape-sm1.github.io/site1/COCONUT%20market1super.html\"\n",
    "\n",
    "#product_glomark ='https://glomark.lk/coconut/p/11624'\n",
    "\n",
    "\n",
    "\n",
    "\n",
    "def compare_prices(product_laughs,product_glomark):\n",
    "    try:\n",
    "        laughs = requests.get(product_laughs).content\n",
    "        soup_laughs = bf(laughs, \"html.parser\")\n",
    "        price_laughs_box = soup_laughs.find(\"div\", class_=\"price-box\")\n",
    "        price_laughs = float(price_laughs_box.span.span.text.split(\".\")[1])\n",
    "\n",
    "        # Get item name from laughs site\n",
    "        product_name_laughs = soup_laughs.find(\"div\", class_=\"product-name\").h1.text\n",
    "\n",
    "        # Get prices from glomark site\n",
    "        glomark = requests.get(product_glomark).content\n",
    "        soup_glomark = bf(glomark, \"html.parser\")\n",
    "        price_glomark_box = soup_glomark.find(\"script\", type=\"application/ld+json\")\n",
    "        price_glomark = float(json.loads(price_glomark_box.text)[\"offers\"][0]['price'])\n",
    "        product_name_glomark = json.loads(price_glomark_box.text)[\"name\"]\n",
    "        print('Laughs  ',product_name_laughs,'Rs.: ' , price_laughs)\n",
    "        print('Glomark ',product_name_glomark,'Rs.: ' , price_glomark)\n",
    "        if(price_laughs>price_glomark):\n",
    "            print('Glomark is cheaper Rs.:',price_laughs - price_glomark)\n",
    "        elif(price_laughs<price_glomark):\n",
    "            print('Laughs is cheaper Rs.:',price_glomark - price_laughs)    \n",
    "        else:\n",
    "            print('Price is the same')\n",
    "        \n",
    "    except:\n",
    "        print(\"uestion author has goofed. Please report\")\n",
    "\n",
    "    \n",
    "compare_prices('https://scrape-sm1.github.io/site1/Crimson%20Bread%20Sliced%20market1super.com.html'\n",
    ",'https://glomark.lk/top-crust-bread/p/13676')"
   ]
  },
  {
   "cell_type": "code",
   "execution_count": 89,
   "id": "61bbc1a9",
   "metadata": {},
   "outputs": [
    {
     "name": "stdout",
     "output_type": "stream",
     "text": [
      "Laughs   COCONUT - Item#mr-2058 Rs.:  95.0\n",
      "Glomark  Coconut Rs.:  99.0\n",
      "Laughs is cheaper Rs.: 4.0\n"
     ]
    }
   ],
   "source": [
    "# Get prices from laughs site\n",
    "\n",
    "laughs = requests.get(product_laughs).content\n",
    "soup_laughs = bf(laughs, \"lxml\")\n",
    "price_laughs_box = soup_laughs.find(\"div\", class_=\"price-box\")\n",
    "price_laughs = float(price_laughs_box.span.span.text.split(\".\")[1])\n",
    "\n",
    "# Get item name from laughs site\n",
    "product_name_laughs = soup_laughs.find(\"div\", class_=\"product-name\").h1.text\n",
    "\n",
    "\n",
    "# Get prices from glomark site\n",
    "\n",
    "glomark = requests.get(product_glomark).content\n",
    "soup_glomark = bf(glomark, \"lxml\")\n",
    "price_glomark_box = soup_glomark.find(\"script\", type=\"application/ld+json\")\n",
    "price_glomark = float(json.loads(price_glomark_box.text)[\"offers\"][0]['price'])\n",
    "product_name_glomark = json.loads(price_glomark_box.text)[\"name\"]\n",
    "\n",
    "print('Laughs  ',product_name_laughs,'Rs.: ' , price_laughs)\n",
    "print('Glomark ',product_name_glomark,'Rs.: ' , price_glomark)\n",
    "\n",
    "if(price_laughs>price_glomark):\n",
    "    print('Glomark is cheaper Rs.:',price_laughs - price_glomark)\n",
    "elif(price_laughs<price_glomark):\n",
    "    print('Laughs is cheaper Rs.:',price_glomark - price_laughs)    \n",
    "else:\n",
    "    print('Price is the same')\n"
   ]
  },
  {
   "cell_type": "code",
   "execution_count": 86,
   "id": "313010f8",
   "metadata": {},
   "outputs": [
    {
     "name": "stdout",
     "output_type": "stream",
     "text": [
      "\u001b[31mERROR: Could not find a version that satisfies the requirement parser (from versions: none)\u001b[0m\n",
      "\u001b[31mERROR: No matching distribution found for parser\u001b[0m\n",
      "Note: you may need to restart the kernel to use updated packages.\n"
     ]
    }
   ],
   "source": [
    "pip install parser"
   ]
  },
  {
   "cell_type": "code",
   "execution_count": null,
   "id": "56d428cf",
   "metadata": {},
   "outputs": [],
   "source": []
  }
 ],
 "metadata": {
  "kernelspec": {
   "display_name": "Python 3 (ipykernel)",
   "language": "python",
   "name": "python3"
  },
  "language_info": {
   "codemirror_mode": {
    "name": "ipython",
    "version": 3
   },
   "file_extension": ".py",
   "mimetype": "text/x-python",
   "name": "python",
   "nbconvert_exporter": "python",
   "pygments_lexer": "ipython3",
   "version": "3.9.12"
  }
 },
 "nbformat": 4,
 "nbformat_minor": 5
}
