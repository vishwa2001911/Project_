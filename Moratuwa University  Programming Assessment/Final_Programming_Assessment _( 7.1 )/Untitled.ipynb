{
 "cells": [
  {
   "cell_type": "code",
   "execution_count": 4,
   "id": "dabe8c61",
   "metadata": {},
   "outputs": [
    {
     "name": "stdout",
     "output_type": "stream",
     "text": [
      "uestion author has goofed. Please report\n"
     ]
    }
   ],
   "source": [
    "import requests\n",
    "import json\n",
    "\n",
    "import sys\n",
    "sys.path.insert(0,'bs4.zip')\n",
    "from bs4 import BeautifulSoup\n",
    "\n",
    "#Imitate the Mozilla browser.\n",
    "user_agent = {'User-agent': 'Mozilla/5.0'}\n",
    "\n",
    "\n",
    "def compare_prices(product_laughs,product_glomark):\n",
    "    try:\n",
    "        laughs_req = requests.get(product_laughs)\n",
    "        laughs_soup = BeautifulSoup(laughs_req.content, 'html.parser')\n",
    "        glomark_req = requests.get(product_glomark)\n",
    "        glomark_soup = BeautifulSoup(glomark_req.content, 'html.parser')\n",
    "        product_name_laughs = laughs_soup.find(\"div\",{\"class\":\"product-name\"}).text.strip()\n",
    "        product_name_glomark = glomark_soup.find(\"div\",{\"class\":\"product-title\"}).text.strip()\n",
    "        price_laughs = float(laughs_soup.find(\"span\",{\"class\":\"regular-price\"}).text.strip()[3:])\n",
    "        price_glomark = float(json.loads(glomark_soup.find(\"script\",{\"type\":\"application/ld+json\"}).text.strip())['offers'][0]['price'])\n",
    "        print('Laughs',product_name_laughs,'Rs.: ' , price_laughs)\n",
    "        print('Glomark ',product_name_glomark,'Rs.: ' , price_glomark)\n",
    "        if(price_laughs>price_glomark):\n",
    "                print('Glomark is cheaper Rs.:',price_laughs - price_glomark)\n",
    "        elif(price_laughs<price_glomark):\n",
    "            print('Laughs is cheaper Rs.:',price_glomark - price_laughs)\n",
    "        else:\n",
    "            print('Price is the same')\n",
    "    except:\n",
    "        print(\"uestion author has goofed. Please report\")\n",
    "        \n",
    "        \n",
    "\n",
    "    \n",
    "    \n",
    "compare_prices('https://scrape-sm1.github.io/site1/Crimson%20Bread%20Sliced%20market1super.com.html'\n",
    ",'https://glomark.lk/top-crust-bread/p/13676')"
   ]
  },
  {
   "cell_type": "code",
   "execution_count": null,
   "id": "890f03d1",
   "metadata": {},
   "outputs": [],
   "source": []
  }
 ],
 "metadata": {
  "kernelspec": {
   "display_name": "Python 3 (ipykernel)",
   "language": "python",
   "name": "python3"
  },
  "language_info": {
   "codemirror_mode": {
    "name": "ipython",
    "version": 3
   },
   "file_extension": ".py",
   "mimetype": "text/x-python",
   "name": "python",
   "nbconvert_exporter": "python",
   "pygments_lexer": "ipython3",
   "version": "3.9.12"
  }
 },
 "nbformat": 4,
 "nbformat_minor": 5
}
