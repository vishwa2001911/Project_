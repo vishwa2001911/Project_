{
 "cells": [
  {
   "cell_type": "code",
   "execution_count": 61,
   "id": "2d080942",
   "metadata": {},
   "outputs": [
    {
     "name": "stdout",
     "output_type": "stream",
     "text": [
      "<class 'pandas.core.frame.DataFrame'>\n",
      "RangeIndex: 120 entries, 0 to 119\n",
      "Data columns (total 5 columns):\n",
      " #   Column       Non-Null Count  Dtype \n",
      "---  ------       --------------  ----- \n",
      " 0   maths        120 non-null    int64 \n",
      " 1   sinhala      120 non-null    int64 \n",
      " 2   english      120 non-null    int64 \n",
      " 3   history      120 non-null    int64 \n",
      " 4   class-label  120 non-null    object\n",
      "dtypes: int64(4), object(1)\n",
      "memory usage: 4.8+ KB\n",
      "Details of the Train DataFrame:\n",
      "None\n",
      "<class 'pandas.core.frame.DataFrame'>\n",
      "RangeIndex: 30 entries, 0 to 29\n",
      "Data columns (total 4 columns):\n",
      " #   Column   Non-Null Count  Dtype\n",
      "---  ------   --------------  -----\n",
      " 0   maths    30 non-null     int64\n",
      " 1   sinhala  30 non-null     int64\n",
      " 2   english  30 non-null     int64\n",
      " 3   history  30 non-null     int64\n",
      "dtypes: int64(4)\n",
      "memory usage: 1.1 KB\n",
      "Details of the Test DataFrame:\n",
      "None\n",
      "X shape: (120, 4) | y shape: (120,) \n"
     ]
    }
   ],
   "source": [
    "# IMPORTING LIBRARIES ***********************************************************\n",
    "import pandas as pd\n",
    "import matplotlib.pyplot as plt \n",
    "import seaborn as sns\n",
    "sns.set_palette('husl')\n",
    "\n",
    "from sklearn.model_selection import train_test_split\n",
    "from sklearn.model_selection import cross_val_score\n",
    "from sklearn.model_selection import StratifiedKFold\n",
    "from sklearn.metrics import classification_report\n",
    "from sklearn.metrics import accuracy_score\n",
    "\n",
    "from sklearn.svm import SVC\n",
    "\n",
    "# Load The Training and Test Data\n",
    "train_df = pd.read_csv('student_marks_train.csv')\n",
    "result = train_df.info()\n",
    "print(\"Details of the Train DataFrame:\")\n",
    "print(result)\n",
    "\n",
    "test_df = pd.read_csv('student_marks_test.csv')\n",
    "result = test_df.info()\n",
    "print(\"Details of the Test DataFrame:\")\n",
    "print(result)\n",
    "\n",
    "\n",
    "# PRE-PROCESS the data to see if you can improve the final classification**********\n",
    "\n",
    "\n",
    "# SPLIT taining data to test ML model *********************************************\n",
    "# Drop the column that contains the class labels\n",
    "X = train_df.drop(['class-label'], axis=1)\n",
    "y = train_df['class-label']\n",
    "print(f'X shape: {X.shape} | y shape: {y.shape} ')\n",
    "\n",
    "# Split: 50% for training. 50% for testing\n",
    "# We have to split the given training data to test since the test data given does not have class-labels\n",
    "from sklearn.model_selection import train_test_split\n",
    "X_train, X_test, y_train, y_test = train_test_split(\n",
    "                                                    X, \n",
    "                                                    y, \n",
    "                                                    test_size=0.1, \n",
    "                                                    random_state=1)\n",
    "            \n"
   ]
  },
  {
   "cell_type": "code",
   "execution_count": 62,
   "id": "e45fa836",
   "metadata": {},
   "outputs": [
    {
     "name": "stdout",
     "output_type": "stream",
     "text": [
      "(12, 4) (108, 4)\n"
     ]
    }
   ],
   "source": [
    "print(X_test.shape, X_train.shape)"
   ]
  },
  {
   "cell_type": "code",
   "execution_count": 55,
   "id": "008786a7",
   "metadata": {},
   "outputs": [
    {
     "data": {
      "text/plain": [
       "(96, 4)"
      ]
     },
     "execution_count": 55,
     "metadata": {},
     "output_type": "execute_result"
    }
   ],
   "source": []
  },
  {
   "cell_type": "code",
   "execution_count": 2,
   "id": "74116b4f",
   "metadata": {},
   "outputs": [],
   "source": [
    "# BUILD and TRAIN ML model *******************************************************\n",
    "# Support vector machine algorithm for ML\n",
    "from sklearn.svm import SVC\n",
    "svn = SVC()\n",
    "svn.fit(X_train, y_train)\n",
    "# Model evaluation\n",
    "# Check predictions of the test dataset that we created\n",
    "predictions = svn.predict(X_test)\n",
    "# Calculate the accuracy\n",
    "from sklearn.metrics import accuracy_score\n",
    "print(\"Current Accuracy =\", accuracy_score(y_test, predictions))\n",
    "\n"
   ]
  },
  {
   "cell_type": "code",
   "execution_count": 33,
   "id": "493c0861",
   "metadata": {},
   "outputs": [
    {
     "data": {
      "text/plain": [
       "0       pass\n",
       "1       fail\n",
       "2       pass\n",
       "3       fail\n",
       "4       fail\n",
       "       ...  \n",
       "115     fail\n",
       "116     pass\n",
       "117    maybe\n",
       "118    maybe\n",
       "119    maybe\n",
       "Name: class-label, Length: 120, dtype: object"
      ]
     },
     "execution_count": 33,
     "metadata": {},
     "output_type": "execute_result"
    }
   ],
   "source": [
    "X = train_df.drop(['class-label'], axis=1)\n",
    "y = train_df['class-label']\n",
    "\n",
    "\n",
    "from sklearn.model_selection import train_test_split\n",
    "y"
   ]
  },
  {
   "cell_type": "code",
   "execution_count": 41,
   "id": "b41549b4",
   "metadata": {},
   "outputs": [],
   "source": [
    "\n",
    "\n",
    "X_train, X_test, y_train, y_test = train_test_split(\n",
    "                                                    X, \n",
    "                                                    y, \n",
    "                                                    test_size=0.50, \n",
    "                                                    random_state=1)\n",
    "            "
   ]
  },
  {
   "cell_type": "code",
   "execution_count": 42,
   "id": "b6671a57",
   "metadata": {},
   "outputs": [
    {
     "data": {
      "text/plain": [
       "SVC()"
      ]
     },
     "execution_count": 42,
     "metadata": {},
     "output_type": "execute_result"
    }
   ],
   "source": [
    "from sklearn.svm import SVC\n",
    "svn = SVC()\n",
    "svn.fit(X_train, y_train)\n"
   ]
  },
  {
   "cell_type": "code",
   "execution_count": 43,
   "id": "50fd0bff",
   "metadata": {},
   "outputs": [
    {
     "ename": "ValueError",
     "evalue": "Found input variables with inconsistent numbers of samples: [60, 1]",
     "output_type": "error",
     "traceback": [
      "\u001b[0;31m---------------------------------------------------------------------------\u001b[0m",
      "\u001b[0;31mValueError\u001b[0m                                Traceback (most recent call last)",
      "Input \u001b[0;32mIn [43]\u001b[0m, in \u001b[0;36m<cell line: 12>\u001b[0;34m()\u001b[0m\n\u001b[1;32m      3\u001b[0m \u001b[38;5;28;01mfrom\u001b[39;00m \u001b[38;5;21;01msklearn\u001b[39;00m\u001b[38;5;21;01m.\u001b[39;00m\u001b[38;5;21;01mmetrics\u001b[39;00m \u001b[38;5;28;01mimport\u001b[39;00m accuracy_score\n\u001b[1;32m      4\u001b[0m \u001b[38;5;66;03m#predictions = svn.predict(X_test)\u001b[39;00m\n\u001b[1;32m      5\u001b[0m \n\u001b[1;32m      6\u001b[0m \n\u001b[1;32m      7\u001b[0m \u001b[38;5;66;03m# Calculate the accuracy\u001b[39;00m\n\u001b[1;32m      8\u001b[0m \n\u001b[1;32m      9\u001b[0m \u001b[38;5;66;03m#accuracy_score(y_test, predictions)\u001b[39;00m\n\u001b[0;32m---> 12\u001b[0m \u001b[38;5;28mprint\u001b[39m(\u001b[38;5;124m\"\u001b[39m\u001b[38;5;124mCurrent Accuracy =\u001b[39m\u001b[38;5;124m\"\u001b[39m, \u001b[43maccuracy_score\u001b[49m\u001b[43m(\u001b[49m\u001b[43my_test\u001b[49m\u001b[43m,\u001b[49m\u001b[43m \u001b[49m\u001b[43mpredictions\u001b[49m\u001b[43m)\u001b[49m)\n",
      "File \u001b[0;32m~/anaconda3/lib/python3.9/site-packages/sklearn/metrics/_classification.py:211\u001b[0m, in \u001b[0;36maccuracy_score\u001b[0;34m(y_true, y_pred, normalize, sample_weight)\u001b[0m\n\u001b[1;32m    145\u001b[0m \u001b[38;5;124;03m\"\"\"Accuracy classification score.\u001b[39;00m\n\u001b[1;32m    146\u001b[0m \n\u001b[1;32m    147\u001b[0m \u001b[38;5;124;03mIn multilabel classification, this function computes subset accuracy:\u001b[39;00m\n\u001b[0;32m   (...)\u001b[0m\n\u001b[1;32m    207\u001b[0m \u001b[38;5;124;03m0.5\u001b[39;00m\n\u001b[1;32m    208\u001b[0m \u001b[38;5;124;03m\"\"\"\u001b[39;00m\n\u001b[1;32m    210\u001b[0m \u001b[38;5;66;03m# Compute accuracy for each possible representation\u001b[39;00m\n\u001b[0;32m--> 211\u001b[0m y_type, y_true, y_pred \u001b[38;5;241m=\u001b[39m \u001b[43m_check_targets\u001b[49m\u001b[43m(\u001b[49m\u001b[43my_true\u001b[49m\u001b[43m,\u001b[49m\u001b[43m \u001b[49m\u001b[43my_pred\u001b[49m\u001b[43m)\u001b[49m\n\u001b[1;32m    212\u001b[0m check_consistent_length(y_true, y_pred, sample_weight)\n\u001b[1;32m    213\u001b[0m \u001b[38;5;28;01mif\u001b[39;00m y_type\u001b[38;5;241m.\u001b[39mstartswith(\u001b[38;5;124m\"\u001b[39m\u001b[38;5;124mmultilabel\u001b[39m\u001b[38;5;124m\"\u001b[39m):\n",
      "File \u001b[0;32m~/anaconda3/lib/python3.9/site-packages/sklearn/metrics/_classification.py:84\u001b[0m, in \u001b[0;36m_check_targets\u001b[0;34m(y_true, y_pred)\u001b[0m\n\u001b[1;32m     57\u001b[0m \u001b[38;5;28;01mdef\u001b[39;00m \u001b[38;5;21m_check_targets\u001b[39m(y_true, y_pred):\n\u001b[1;32m     58\u001b[0m     \u001b[38;5;124;03m\"\"\"Check that y_true and y_pred belong to the same classification task.\u001b[39;00m\n\u001b[1;32m     59\u001b[0m \n\u001b[1;32m     60\u001b[0m \u001b[38;5;124;03m    This converts multiclass or binary types to a common shape, and raises a\u001b[39;00m\n\u001b[0;32m   (...)\u001b[0m\n\u001b[1;32m     82\u001b[0m \u001b[38;5;124;03m    y_pred : array or indicator matrix\u001b[39;00m\n\u001b[1;32m     83\u001b[0m \u001b[38;5;124;03m    \"\"\"\u001b[39;00m\n\u001b[0;32m---> 84\u001b[0m     \u001b[43mcheck_consistent_length\u001b[49m\u001b[43m(\u001b[49m\u001b[43my_true\u001b[49m\u001b[43m,\u001b[49m\u001b[43m \u001b[49m\u001b[43my_pred\u001b[49m\u001b[43m)\u001b[49m\n\u001b[1;32m     85\u001b[0m     type_true \u001b[38;5;241m=\u001b[39m type_of_target(y_true)\n\u001b[1;32m     86\u001b[0m     type_pred \u001b[38;5;241m=\u001b[39m type_of_target(y_pred)\n",
      "File \u001b[0;32m~/anaconda3/lib/python3.9/site-packages/sklearn/utils/validation.py:332\u001b[0m, in \u001b[0;36mcheck_consistent_length\u001b[0;34m(*arrays)\u001b[0m\n\u001b[1;32m    330\u001b[0m uniques \u001b[38;5;241m=\u001b[39m np\u001b[38;5;241m.\u001b[39munique(lengths)\n\u001b[1;32m    331\u001b[0m \u001b[38;5;28;01mif\u001b[39;00m \u001b[38;5;28mlen\u001b[39m(uniques) \u001b[38;5;241m>\u001b[39m \u001b[38;5;241m1\u001b[39m:\n\u001b[0;32m--> 332\u001b[0m     \u001b[38;5;28;01mraise\u001b[39;00m \u001b[38;5;167;01mValueError\u001b[39;00m(\n\u001b[1;32m    333\u001b[0m         \u001b[38;5;124m\"\u001b[39m\u001b[38;5;124mFound input variables with inconsistent numbers of samples: \u001b[39m\u001b[38;5;132;01m%r\u001b[39;00m\u001b[38;5;124m\"\u001b[39m\n\u001b[1;32m    334\u001b[0m         \u001b[38;5;241m%\u001b[39m [\u001b[38;5;28mint\u001b[39m(l) \u001b[38;5;28;01mfor\u001b[39;00m l \u001b[38;5;129;01min\u001b[39;00m lengths]\n\u001b[1;32m    335\u001b[0m     )\n",
      "\u001b[0;31mValueError\u001b[0m: Found input variables with inconsistent numbers of samples: [60, 1]"
     ]
    }
   ],
   "source": [
    "# Model evaluation\n",
    "# Predict from the Database\n",
    "from sklearn.metrics import accuracy_score\n",
    "#predictions = svn.predict(X_test)\n",
    "\n",
    "\n",
    "# Calculate the accuracy\n",
    "\n",
    "#accuracy_score(y_test, predictions)\n",
    "\n",
    "\n",
    "print(\"Current Accuracy =\", accuracy_score(y_test, predictions))\n",
    "\n",
    "\n"
   ]
  },
  {
   "cell_type": "code",
   "execution_count": 39,
   "id": "76715433",
   "metadata": {},
   "outputs": [
    {
     "data": {
      "text/plain": [
       "95      fail\n",
       "54      fail\n",
       "59     maybe\n",
       "117    maybe\n",
       "77      pass\n",
       "46     maybe\n",
       "31      pass\n",
       "81      pass\n",
       "48      fail\n",
       "98      pass\n",
       "97      fail\n",
       "99     maybe\n",
       "2       pass\n",
       "92      fail\n",
       "113     pass\n",
       "56     maybe\n",
       "106    maybe\n",
       "103     fail\n",
       "67      pass\n",
       "62      fail\n",
       "112     fail\n",
       "17     maybe\n",
       "83      fail\n",
       "108    maybe\n",
       "73     maybe\n",
       "96      fail\n",
       "35     maybe\n",
       "44     maybe\n",
       "91      pass\n",
       "114     fail\n",
       "33      fail\n",
       "42      fail\n",
       "58     maybe\n",
       "66      pass\n",
       "10      pass\n",
       "53     maybe\n",
       "32     maybe\n",
       "80      pass\n",
       "38      pass\n",
       "19     maybe\n",
       "119    maybe\n",
       "27      fail\n",
       "36      fail\n",
       "111     pass\n",
       "39     maybe\n",
       "69      fail\n",
       "89      fail\n",
       "85     maybe\n",
       "40     maybe\n",
       "55      pass\n",
       "65      pass\n",
       "88      pass\n",
       "23      fail\n",
       "34      fail\n",
       "78     maybe\n",
       "105     pass\n",
       "4       fail\n",
       "82     maybe\n",
       "15      pass\n",
       "102    maybe\n",
       "Name: class-label, dtype: object"
      ]
     },
     "execution_count": 39,
     "metadata": {},
     "output_type": "execute_result"
    }
   ],
   "source": [
    "#test_df\n",
    "y_test"
   ]
  },
  {
   "cell_type": "code",
   "execution_count": null,
   "id": "7a2cb21e",
   "metadata": {},
   "outputs": [],
   "source": []
  }
 ],
 "metadata": {
  "kernelspec": {
   "display_name": "Python 3 (ipykernel)",
   "language": "python",
   "name": "python3"
  },
  "language_info": {
   "codemirror_mode": {
    "name": "ipython",
    "version": 3
   },
   "file_extension": ".py",
   "mimetype": "text/x-python",
   "name": "python",
   "nbconvert_exporter": "python",
   "pygments_lexer": "ipython3",
   "version": "3.9.12"
  }
 },
 "nbformat": 4,
 "nbformat_minor": 5
}
