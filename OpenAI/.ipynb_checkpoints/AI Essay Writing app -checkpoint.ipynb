{
 "cells": [
  {
   "cell_type": "code",
   "execution_count": 23,
   "id": "c6c57483",
   "metadata": {},
   "outputs": [
    {
     "data": {
      "text/plain": [
       "<OpenAIObject edit at 0x7f4cf2714c70> JSON: {\n",
       "  \"choices\": [\n",
       "    {\n",
       "      \"index\": 0,\n",
       "      \"text\": \"china\\nWrong\\n\"\n",
       "    }\n",
       "  ],\n",
       "  \"created\": 1668921632,\n",
       "  \"object\": \"edit\",\n",
       "  \"usage\": {\n",
       "    \"completion_tokens\": 12,\n",
       "    \"prompt_tokens\": 21,\n",
       "    \"total_tokens\": 33\n",
       "  }\n",
       "}"
      ]
     },
     "execution_count": 23,
     "metadata": {},
     "output_type": "execute_result"
    }
   ],
   "source": [
    "import openai\n",
    "import os\n",
    "\n",
    "f = open(\"api_key.txt\", \"r\")\n",
    "\n",
    "key = f.read()\n",
    "f.close()\n",
    "key\n",
    "\n",
    "openai.api_key = key\n",
    "\n",
    "openai.Edit.create(\n",
    "  model=\"text-davinci-edit-001\",\n",
    "  input=\"china\",\n",
    "  instruction=\"What do you think about china\"\n",
    ")"
   ]
  },
  {
   "cell_type": "code",
   "execution_count": 24,
   "id": "803c6c81",
   "metadata": {},
   "outputs": [
    {
     "data": {
      "text/plain": [
       "<OpenAIObject edit at 0x7f4cdae9cd60> JSON: {\n",
       "  \"choices\": [\n",
       "    {\n",
       "      \"index\": 0,\n",
       "      \"text\": \"china\\n\\n\\nchina is go sgo t\\n\"\n",
       "    }\n",
       "  ],\n",
       "  \"created\": 1668921711,\n",
       "  \"object\": \"edit\",\n",
       "  \"usage\": {\n",
       "    \"completion_tokens\": 21,\n",
       "    \"prompt_tokens\": 19,\n",
       "    \"total_tokens\": 40\n",
       "  }\n",
       "}"
      ]
     },
     "execution_count": 24,
     "metadata": {},
     "output_type": "execute_result"
    }
   ],
   "source": [
    "openai.Edit.create(\n",
    "  model=\"text-davinci-edit-001\",\n",
    "  input=\"china\",\n",
    "  instruction=\"Why china is wrong\"\n",
    ")"
   ]
  },
  {
   "cell_type": "code",
   "execution_count": 25,
   "id": "5253df04",
   "metadata": {},
   "outputs": [
    {
     "data": {
      "text/plain": [
       "<OpenAIObject edit at 0x7f4cdae746d0> JSON: {\n",
       "  \"choices\": [\n",
       "    {\n",
       "      \"index\": 0,\n",
       "      \"text\": \"china is go sgo t\\n\\nwonder what will happen\\nThose memes are hilarious\\n\"\n",
       "    }\n",
       "  ],\n",
       "  \"created\": 1668921798,\n",
       "  \"object\": \"edit\",\n",
       "  \"usage\": {\n",
       "    \"completion_tokens\": 23,\n",
       "    \"prompt_tokens\": 23,\n",
       "    \"total_tokens\": 46\n",
       "  }\n",
       "}"
      ]
     },
     "execution_count": 25,
     "metadata": {},
     "output_type": "execute_result"
    }
   ],
   "source": [
    "openai.Edit.create(\n",
    "  model=\"text-davinci-edit-001\",\n",
    "  input=\"china is go sgo t\",\n",
    "  instruction=\"Fix the spelling mistakes\"\n",
    ")"
   ]
  },
  {
   "cell_type": "code",
   "execution_count": 36,
   "id": "5a368f88",
   "metadata": {},
   "outputs": [
    {
     "data": {
      "text/plain": [
       "<OpenAIObject text_completion id=cmpl-6EXU25oNJ4sVurYKIkHZkHLS2SVuD at 0x7f4cdac06040> JSON: {\n",
       "  \"choices\": [\n",
       "    {\n",
       "      \"finish_reason\": \"stop\",\n",
       "      \"index\": 0,\n",
       "      \"logprobs\": null,\n",
       "      \"text\": \"Space is one of the most fascinating topics to study. It is an infinite frontier that has captivated the imaginations of people for centuries. The study of space is important for understanding the universe and our place in it.\\n\\nThere is a lot to learn about space. For example, what are the different types of stars? How do they form? What are the planets in our solar system like? What is the history of the universe?\\n\\nThese are just a few of the questions that can be answered by studying space. The more we learn about space, the more we realize how little we actually know. It is an infinite frontier that is full of mystery and wonder.\\n\\nThere are many different ways to study space. One way is to observe it directly with telescopes. Another way is to use math and physics to model and understand it.\\n\\nNo matter how you study space, it is sure to be an interesting and rewarding experience. So go out and explore the universe!\"\n",
       "    }\n",
       "  ],\n",
       "  \"created\": 1668923322,\n",
       "  \"id\": \"cmpl-6EXU25oNJ4sVurYKIkHZkHLS2SVuD\",\n",
       "  \"model\": \"text-davinci-002\",\n",
       "  \"object\": \"text_completion\",\n",
       "  \"usage\": {\n",
       "    \"completion_tokens\": 200,\n",
       "    \"prompt_tokens\": 11,\n",
       "    \"total_tokens\": 211\n",
       "  }\n",
       "}"
      ]
     },
     "execution_count": 36,
     "metadata": {},
     "output_type": "execute_result"
    }
   ],
   "source": [
    "answer = openai.Completion.create(  \n",
    "  model=\"text-davinci-002\",\n",
    "  prompt=\"Write a essay  about space  :\\n\\n\\n\\n\\n\",\n",
    "  temperature = 0.5,\n",
    "  max_tokens = 500,\n",
    "  top_p = 1,\n",
    "  frequency_penalty=0,\n",
    "  presence_penalty=0\n",
    "\n",
    ")\n",
    "\n",
    "\n",
    "answer"
   ]
  },
  {
   "cell_type": "code",
   "execution_count": 43,
   "id": "c8af966a",
   "metadata": {},
   "outputs": [],
   "source": [
    "x = answer[\"choices\"][0][\"text\"]\n",
    "\n",
    "f2 = open(\"new.text\", \"w\")\n",
    "f2.write(x)\n",
    "f2.close()"
   ]
  },
  {
   "cell_type": "code",
   "execution_count": null,
   "id": "3cbd091a",
   "metadata": {},
   "outputs": [],
   "source": []
  }
 ],
 "metadata": {
  "kernelspec": {
   "display_name": "Python 3 (ipykernel)",
   "language": "python",
   "name": "python3"
  },
  "language_info": {
   "codemirror_mode": {
    "name": "ipython",
    "version": 3
   },
   "file_extension": ".py",
   "mimetype": "text/x-python",
   "name": "python",
   "nbconvert_exporter": "python",
   "pygments_lexer": "ipython3",
   "version": "3.9.12"
  }
 },
 "nbformat": 4,
 "nbformat_minor": 5
}
