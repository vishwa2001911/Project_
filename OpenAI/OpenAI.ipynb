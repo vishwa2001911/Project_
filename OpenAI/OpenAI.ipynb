{
 "cells": [
  {
   "cell_type": "code",
   "execution_count": 2,
   "id": "c6c57483",
   "metadata": {},
   "outputs": [
    {
     "name": "stdout",
     "output_type": "stream",
     "text": [
      "Ask anything from AI :- hello\n",
      "\n",
      "Hello and welcome to our web site. Our mission is to provide you with information that will help you improve your life. We believe that personal growth is the key to happiness and success. On our website, you will find articles and resources that will help you become the best possible version of yourself. Thanks for visiting!\n"
     ]
    }
   ],
   "source": [
    "import openai\n",
    "import os\n",
    "\n",
    "f2 = open(\"api_key.txt\", \"r\")\n",
    "\n",
    "key2 = f2.read()\n",
    "f2.close()\n",
    "\n",
    "\n",
    "q = input(\"Ask anything from AI :- \")\n",
    "\n",
    "openai.api_key = key2\n",
    "\n",
    "answer = openai.Completion.create(  \n",
    "  model=\"text-davinci-001\",\n",
    "  prompt=f\" {q} :\\n\\n\\n\\n\\n\",\n",
    "  temperature = 1,\n",
    "  max_tokens = 300,\n",
    "  top_p = 1,\n",
    "  frequency_penalty=0,\n",
    "  presence_penalty=0\n",
    "\n",
    ")\n",
    "\n",
    "\n",
    "print(answer[\"choices\"][0][\"text\"])\n",
    "\n",
    "\n",
    "\n",
    "\n"
   ]
  },
  {
   "cell_type": "code",
   "execution_count": null,
   "id": "525d7fc2",
   "metadata": {},
   "outputs": [],
   "source": [
    "main = openai.Completion.create()"
   ]
  }
 ],
 "metadata": {
  "kernelspec": {
   "display_name": "Python 3 (ipykernel)",
   "language": "python",
   "name": "python3"
  },
  "language_info": {
   "codemirror_mode": {
    "name": "ipython",
    "version": 3
   },
   "file_extension": ".py",
   "mimetype": "text/x-python",
   "name": "python",
   "nbconvert_exporter": "python",
   "pygments_lexer": "ipython3",
   "version": "3.9.12"
  }
 },
 "nbformat": 4,
 "nbformat_minor": 5
}
