{
 "cells": [
  {
   "cell_type": "markdown",
   "id": "5452e1a4",
   "metadata": {},
   "source": [
    "# This app only for Educatinal purposes only"
   ]
  },
  {
   "cell_type": "code",
   "execution_count": 7,
   "id": "c6c57483",
   "metadata": {},
   "outputs": [
    {
     "name": "stdout",
     "output_type": "stream",
     "text": [
      "Write a essay  about :-  china\n",
      "Max_numbers_of_words :- 500\n",
      "Please wait your file is creating.......... \n",
      " \n",
      " \n",
      " Now Your Text File is Ready\n"
     ]
    }
   ],
   "source": [
    "## Please install openai to run this program ##\n",
    "### use this command  'pip install openai' to install OpenAI \n",
    "### This app only for Educatinal purposes \n",
    "\n",
    "import openai\n",
    "\n",
    "\n",
    "def essay(topic, tokens):\n",
    "    f = open(\"api_key.txt\", \"r\")\n",
    "    key = f.read()\n",
    "    f.close()\n",
    "\n",
    "    openai.api_key = key\n",
    "    answer = openai.Completion.create(  \n",
    "      model=\"text-davinci-002\",\n",
    "      prompt=f\"Write a essay  about {topic}  ::\\n\\n\\n\\n\\n\",\n",
    "      temperature = 0.5,\n",
    "      max_tokens = tokens,\n",
    "      top_p = 1,\n",
    "      frequency_penalty=0,\n",
    "      presence_penalty=0\n",
    "\n",
    "    )\n",
    "    text = answer[\"choices\"][0][\"text\"]\n",
    "    \n",
    "    f2 = open(\"new.text\", \"w\")\n",
    "    f2.write(text)\n",
    "    f2.close()\n",
    "    \n",
    "    return \" \\n Now Your Text File is Ready\"\n",
    "\n",
    "\n",
    "\n",
    "\n",
    "\n",
    "if __name__ == \"__main__\":\n",
    "    essay_topic = input(\"Write a essay  about :-  \")\n",
    "    words = int(input(\"Max_numbers_of_words :- \"))\n",
    "    print(\"Please wait your file is creating.......... \\n \")\n",
    "    print(essay(essay_topic, words))\n",
    "    \n",
    "\n",
    "    \n",
    "\n"
   ]
  },
  {
   "cell_type": "code",
   "execution_count": null,
   "id": "3cbd091a",
   "metadata": {},
   "outputs": [],
   "source": []
  }
 ],
 "metadata": {
  "kernelspec": {
   "display_name": "Python 3 (ipykernel)",
   "language": "python",
   "name": "python3"
  },
  "language_info": {
   "codemirror_mode": {
    "name": "ipython",
    "version": 3
   },
   "file_extension": ".py",
   "mimetype": "text/x-python",
   "name": "python",
   "nbconvert_exporter": "python",
   "pygments_lexer": "ipython3",
   "version": "3.9.12"
  }
 },
 "nbformat": 4,
 "nbformat_minor": 5
}
